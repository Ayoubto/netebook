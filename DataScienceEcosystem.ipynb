{
 "cells": [
  {
   "cell_type": "markdown",
   "id": "2c40eccd-f858-4f15-b4db-6cbe151b3a6e",
   "metadata": {},
   "source": [
    "# Data Science Tools and Ecosystem"
   ]
  },
  {
   "cell_type": "markdown",
   "id": "d4689cf3-dbf1-42d8-95e6-2072da1189e8",
   "metadata": {},
   "source": [
    "##### In this notebook, Data Science Tools and Ecosystem are summarized."
   ]
  },
  {
   "cell_type": "markdown",
   "id": "519aec49-d545-4b7d-92cd-3af53ece705e",
   "metadata": {},
   "source": [
    "**Objectives:**</br>\n",
    "<u>List popular languages for Data Science</u></br>\n",
    "<u>Some of the popular languages that Data Scientists use are</u></br>\n",
    "<u>Some of the commonly used libraries used by Data Scientists include</u></br>\n",
    "<u>How to make table </u>"
   ]
  },
  {
   "cell_type": "markdown",
   "id": "b7042e55-a23f-4145-8181-860858c4028b",
   "metadata": {},
   "source": [
    "###### Some of the popular languages that Data Scientists use are:\n",
    "1. Python\n",
    "2. Java\n",
    "3. scala\n",
    "\n"
   ]
  },
  {
   "cell_type": "markdown",
   "id": "c5443c21-b353-458c-ab68-0b4b4af4f0aa",
   "metadata": {},
   "source": [
    "##### Some of the commonly used libraries used by Data Scientists include:\n",
    "1. Scikit-learn\n",
    "2. Pandas\n",
    "3. Numpy "
   ]
  },
  {
   "cell_type": "markdown",
   "id": "22f66d5d-ad79-4ad0-a09b-c129c24bad99",
   "metadata": {},
   "source": [
    "| Data Science Tools |\n",
    "----------------------\n",
    "Apache spark\n",
    "kafka \n",
    "jupyter notebook\n",
    "\n",
    "\n"
   ]
  },
  {
   "cell_type": "markdown",
   "id": "a842429e-9bfa-4f48-8035-87b00aa2b455",
   "metadata": {},
   "source": [
    "### Below are a few examples of evaluating arithmetic expressions in Python\n"
   ]
  },
  {
   "cell_type": "code",
   "execution_count": 1,
   "id": "62192cbe-a45a-473e-8974-2246a9f38b24",
   "metadata": {
    "tags": []
   },
   "outputs": [
    {
     "data": {
      "text/plain": [
       "17"
      ]
     },
     "execution_count": 1,
     "metadata": {},
     "output_type": "execute_result"
    }
   ],
   "source": [
    "(3*4)+5"
   ]
  },
  {
   "cell_type": "code",
   "execution_count": 3,
   "id": "b84a208e-9c65-46a6-87f2-f0714e7884d9",
   "metadata": {
    "tags": []
   },
   "outputs": [
    {
     "data": {
      "text/plain": [
       "3.3333333333333335"
      ]
     },
     "execution_count": 3,
     "metadata": {},
     "output_type": "execute_result"
    }
   ],
   "source": [
    "#This will convert 200 minutes to hours by diving by 60\n",
    "200/60"
   ]
  },
  {
   "cell_type": "markdown",
   "id": "ac92f7af-402c-46f4-b66a-14f989bac5d0",
   "metadata": {},
   "source": [
    "## Author \n",
    "Ayoub ET-toubi"
   ]
  },
  {
   "cell_type": "code",
   "execution_count": null,
   "id": "20d21c32-d162-4d7d-b5fe-3ca53eac19ff",
   "metadata": {},
   "outputs": [],
   "source": []
  }
 ],
 "metadata": {
  "kernelspec": {
   "display_name": "Python",
   "language": "python",
   "name": "conda-env-python-py"
  },
  "language_info": {
   "codemirror_mode": {
    "name": "ipython",
    "version": 3
   },
   "file_extension": ".py",
   "mimetype": "text/x-python",
   "name": "python",
   "nbconvert_exporter": "python",
   "pygments_lexer": "ipython3",
   "version": "3.7.12"
  }
 },
 "nbformat": 4,
 "nbformat_minor": 5
}
